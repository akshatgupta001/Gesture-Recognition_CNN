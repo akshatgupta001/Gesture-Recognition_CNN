{
 "cells": [
  {
   "cell_type": "code",
   "execution_count": 22,
   "metadata": {},
   "outputs": [],
   "source": [
    "import numpy as np\n",
    "from keras.layers import Dense, Activation, Convolution2D, MaxPooling2D, Dropout, Flatten\n",
    "from keras.models import Sequential, save_model\n",
    "from keras.utils import np_utils\n",
    "import os\n",
    "import cv2\n",
    "from sklearn.utils import shuffle"
   ]
  },
  {
   "cell_type": "code",
   "execution_count": 23,
   "metadata": {},
   "outputs": [],
   "source": [
    "path = './gesture/'"
   ]
  },
  {
   "cell_type": "code",
   "execution_count": 24,
   "metadata": {},
   "outputs": [],
   "source": [
    "gestures = os.listdir(path)[1:]\n",
    "\n",
    "x_ , y_ = [], []\n",
    "\n",
    "for i in gestures:\n",
    "    images = os.listdir(path + i)\n",
    "    for j in images:\n",
    "        if j == \".DS_Store\":\n",
    "            continue\n",
    "        img_path = path + i + '/' + j\n",
    "        img = cv2.imread(img_path, 0)\n",
    "        img = np.array(img)\n",
    "        img = img.reshape( (50,50,1) )\n",
    "        img = img/255.0\n",
    "        x_.append(img)\n",
    "        y_.append( int(i) )\n"
   ]
  },
  {
   "cell_type": "code",
   "execution_count": 25,
   "metadata": {},
   "outputs": [
    {
     "name": "stdout",
     "output_type": "stream",
     "text": [
      "[0 1 2 3]\n",
      "(4800, 50, 50, 1) (4800, 4) 4\n"
     ]
    }
   ],
   "source": [
    "x = np.array(x_)\n",
    "y = np.array(y_)\n",
    "print np.unique(y)\n",
    "y = np_utils.to_categorical(y)\n",
    "num_classes = y.shape[1]\n",
    "print x.shape, y.shape, num_classes"
   ]
  },
  {
   "cell_type": "code",
   "execution_count": 26,
   "metadata": {},
   "outputs": [],
   "source": [
    "x , y = shuffle(x, y, random_state=0)"
   ]
  },
  {
   "cell_type": "code",
   "execution_count": 27,
   "metadata": {},
   "outputs": [
    {
     "name": "stdout",
     "output_type": "stream",
     "text": [
      "(2880, 50, 50, 1) (2880, 4) (1920, 50, 50, 1) (1920, 4)\n"
     ]
    }
   ],
   "source": [
    "split = int( 0.6*( x.shape[0] ) )\n",
    "train_features = x[ :split ]\n",
    "train_labels = y[ :split ]\n",
    "test_features = x[ split: ]\n",
    "test_labels = y[ split: ]\n",
    "\n",
    "print train_features.shape, train_labels.shape, test_features.shape, test_labels.shape"
   ]
  },
  {
   "cell_type": "code",
   "execution_count": 28,
   "metadata": {},
   "outputs": [],
   "source": [
    "model = Sequential()"
   ]
  },
  {
   "cell_type": "code",
   "execution_count": 29,
   "metadata": {},
   "outputs": [
    {
     "name": "stderr",
     "output_type": "stream",
     "text": [
      "/usr/local/lib/python2.7/site-packages/ipykernel_launcher.py:1: UserWarning: Update your `Conv2D` call to the Keras 2 API: `Conv2D(32, (3, 3), input_shape=(50, 50, 1...)`\n",
      "  \"\"\"Entry point for launching an IPython kernel.\n",
      "/usr/local/lib/python2.7/site-packages/ipykernel_launcher.py:4: UserWarning: Update your `Conv2D` call to the Keras 2 API: `Conv2D(64, (3, 3))`\n",
      "  after removing the cwd from sys.path.\n",
      "/usr/local/lib/python2.7/site-packages/ipykernel_launcher.py:9: UserWarning: Update your `Conv2D` call to the Keras 2 API: `Conv2D(16, (3, 3))`\n",
      "  if __name__ == '__main__':\n"
     ]
    }
   ],
   "source": [
    "model.add( Convolution2D(32, 3, 3, input_shape = (50,50,1) ) )\n",
    "model.add( Activation('relu') )\n",
    "\n",
    "model.add( Convolution2D( 64,3,3 ) )\n",
    "model.add( Activation('relu') )\n",
    "\n",
    "model.add( MaxPooling2D( pool_size=(2,2) ) )\n",
    "\n",
    "model.add( Convolution2D( 16, 3, 3 ) )\n",
    "model.add( Activation('relu') )\n",
    "\n",
    "model.add( Flatten() )\n",
    "\n",
    "model.add( Dropout(0.25) )\n",
    "model.add( Dense(num_classes) )\n",
    "\n",
    "model.add( Activation('softmax') )"
   ]
  },
  {
   "cell_type": "code",
   "execution_count": 19,
   "metadata": {},
   "outputs": [
    {
     "name": "stdout",
     "output_type": "stream",
     "text": [
      "_________________________________________________________________\n",
      "Layer (type)                 Output Shape              Param #   \n",
      "=================================================================\n",
      "conv2d_1 (Conv2D)            (None, 48, 48, 32)        320       \n",
      "_________________________________________________________________\n",
      "activation_1 (Activation)    (None, 48, 48, 32)        0         \n",
      "_________________________________________________________________\n",
      "conv2d_2 (Conv2D)            (None, 46, 46, 64)        18496     \n",
      "_________________________________________________________________\n",
      "activation_2 (Activation)    (None, 46, 46, 64)        0         \n",
      "_________________________________________________________________\n",
      "max_pooling2d_1 (MaxPooling2 (None, 23, 23, 64)        0         \n",
      "_________________________________________________________________\n",
      "conv2d_3 (Conv2D)            (None, 21, 21, 16)        9232      \n",
      "_________________________________________________________________\n",
      "activation_3 (Activation)    (None, 21, 21, 16)        0         \n",
      "_________________________________________________________________\n",
      "flatten_1 (Flatten)          (None, 7056)              0         \n",
      "_________________________________________________________________\n",
      "dropout_1 (Dropout)          (None, 7056)              0         \n",
      "_________________________________________________________________\n",
      "dense_1 (Dense)              (None, 3)                 21171     \n",
      "_________________________________________________________________\n",
      "activation_4 (Activation)    (None, 3)                 0         \n",
      "=================================================================\n",
      "Total params: 49,219\n",
      "Trainable params: 49,219\n",
      "Non-trainable params: 0\n",
      "_________________________________________________________________\n"
     ]
    }
   ],
   "source": [
    "model.summary()"
   ]
  },
  {
   "cell_type": "code",
   "execution_count": 20,
   "metadata": {},
   "outputs": [
    {
     "name": "stderr",
     "output_type": "stream",
     "text": [
      "/usr/local/lib/python2.7/site-packages/keras/models.py:942: UserWarning: The `nb_epoch` argument in `fit` has been renamed `epochs`.\n",
      "  warnings.warn('The `nb_epoch` argument in `fit` '\n"
     ]
    },
    {
     "name": "stdout",
     "output_type": "stream",
     "text": [
      "Train on 2160 samples, validate on 1440 samples\n",
      "Epoch 1/5\n",
      "2160/2160 [==============================] - 32s 15ms/step - loss: 0.3613 - acc: 0.9023 - val_loss: 0.0129 - val_acc: 0.9951\n",
      "Epoch 2/5\n",
      "2160/2160 [==============================] - 30s 14ms/step - loss: 0.0059 - acc: 0.9977 - val_loss: 1.7542e-04 - val_acc: 1.0000\n",
      "Epoch 3/5\n",
      "2160/2160 [==============================] - 30s 14ms/step - loss: 1.9925e-04 - acc: 1.0000 - val_loss: 1.5265e-04 - val_acc: 1.0000\n",
      "Epoch 4/5\n",
      "2160/2160 [==============================] - 32s 15ms/step - loss: 1.1048e-04 - acc: 1.0000 - val_loss: 1.1747e-04 - val_acc: 1.0000\n",
      "Epoch 5/5\n",
      "2160/2160 [==============================] - 31s 14ms/step - loss: 7.1192e-05 - acc: 1.0000 - val_loss: 8.6032e-05 - val_acc: 1.0000\n"
     ]
    },
    {
     "data": {
      "text/plain": [
       "<keras.callbacks.History at 0x133914c10>"
      ]
     },
     "execution_count": 20,
     "metadata": {},
     "output_type": "execute_result"
    }
   ],
   "source": [
    "model.compile( optimizer='adam', loss='categorical_crossentropy', metrics=['accuracy'] )\n",
    "model.fit( train_features, train_labels, validation_data=( test_features, test_labels ), shuffle=True, batch_size=128, nb_epoch=3 )"
   ]
  },
  {
   "cell_type": "code",
   "execution_count": 21,
   "metadata": {},
   "outputs": [],
   "source": [
    "model.save('Gesture_Recognize.h5')"
   ]
  },
  {
   "cell_type": "code",
   "execution_count": null,
   "metadata": {},
   "outputs": [],
   "source": []
  }
 ],
 "metadata": {
  "kernelspec": {
   "display_name": "Python 2",
   "language": "python",
   "name": "python2"
  },
  "language_info": {
   "codemirror_mode": {
    "name": "ipython",
    "version": 2
   },
   "file_extension": ".py",
   "mimetype": "text/x-python",
   "name": "python",
   "nbconvert_exporter": "python",
   "pygments_lexer": "ipython2",
   "version": "2.7.14"
  }
 },
 "nbformat": 4,
 "nbformat_minor": 2
}
