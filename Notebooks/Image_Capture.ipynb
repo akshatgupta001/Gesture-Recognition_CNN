{
 "cells": [
  {
   "cell_type": "code",
   "execution_count": 16,
   "metadata": {},
   "outputs": [],
   "source": [
    "import numpy as np\n",
    "import cv2\n",
    "import matplotlib.pyplot as plt\n",
    "import os"
   ]
  },
  {
   "cell_type": "code",
   "execution_count": 20,
   "metadata": {},
   "outputs": [
    {
     "data": {
      "text/plain": [
       "-1"
      ]
     },
     "execution_count": 20,
     "metadata": {},
     "output_type": "execute_result"
    }
   ],
   "source": [
    "cv2.namedWindow(\"image\", cv2.WINDOW_NORMAL)\n",
    "cv2.namedWindow(\"hand\", cv2.WINDOW_NORMAL)\n",
    "\n",
    "vc = cv2.VideoCapture(0)\n",
    "rval, frame = vc.read()\n",
    "\n",
    "image_x = 700\n",
    "image_y = 100\n",
    "image_w = 300\n",
    "image_h = 300\n",
    "pic_no = 0\n",
    "total_pic = 1200\n",
    "path = './gesture/3/'\n",
    "\n",
    "flag_capturing = False\n",
    "\n",
    "while True:\n",
    "    \n",
    "    if frame is not None: \n",
    "        \n",
    "        frame = cv2.flip(frame, 1)\n",
    "        \n",
    "        cv2.rectangle(frame, (image_x,image_y), (image_x + image_w,image_y + image_h), (0,255,0), 2)\n",
    "        cv2.imshow(\"image\", frame)\n",
    "        \n",
    "        hand = frame[image_y:image_y+image_h, image_x:image_x+image_w]\n",
    "        hand = cv2.cvtColor(hand, cv2.COLOR_BGR2GRAY)\n",
    "        blur = cv2.GaussianBlur(hand, (11,11), 0)\n",
    "        blur = cv2.medianBlur(blur, 15)\n",
    "        thresh = cv2.threshold(blur,210,255,cv2.THRESH_BINARY+cv2.THRESH_OTSU)[1]\n",
    "        thresh = cv2.bitwise_not(thresh)\n",
    "        cv2.imshow(\"hand\", thresh)\n",
    "        \n",
    "        if flag_capturing:\n",
    "            pic_no += 1\n",
    "            save_img = cv2.resize( thresh, (50,50) )\n",
    "            save_img = np.array(save_img)\n",
    "            cv2.imwrite(path + \"/\" + str(pic_no) + \".jpg\", save_img)\n",
    "        \n",
    "    rval, frame = vc.read()\n",
    "    keypress = cv2.waitKey(1)\n",
    "    \n",
    "    if pic_no == total_pic:\n",
    "        flag_capturing = False\n",
    "        break\n",
    "    \n",
    "    if keypress == ord('q'):\n",
    "        break\n",
    "    elif keypress == ord('c'):\n",
    "        flag_capturing = True\n",
    "\n",
    "vc.release()\n",
    "cv2.destroyAllWindows()\n",
    "cv2.waitKey(1)"
   ]
  },
  {
   "cell_type": "code",
   "execution_count": 23,
   "metadata": {},
   "outputs": [
    {
     "data": {
      "image/png": "[encoded data removed]",
      "text/plain": [
       "<matplotlib.figure.Figure at 0x11a38f690>"
      ]
     },
     "metadata": {},
     "output_type": "display_data"
    },
    {
     "name": "stdout",
     "output_type": "stream",
     "text": [
      "(50, 50)\n"
     ]
    }
   ],
   "source": [
    "images = os.listdir(path)\n",
    "i = np.random.randint( len(images) )\n",
    "img = plt.imread( path + images[i] )\n",
    "plt.imshow(img, cmap = 'gray')\n",
    "plt.show()\n",
    "print img.shape"
   ]
  },
  {
   "cell_type": "code",
   "execution_count": null,
   "metadata": {},
   "outputs": [],
   "source": []
  }
 ],
 "metadata": {
  "kernelspec": {
   "display_name": "Python 2",
   "language": "python",
   "name": "python2"
  },
  "language_info": {
   "codemirror_mode": {
    "name": "ipython",
    "version": 2
   },
   "file_extension": ".py",
   "mimetype": "text/x-python",
   "name": "python",
   "nbconvert_exporter": "python",
   "pygments_lexer": "ipython2",
   "version": "2.7.14"
  }
 },
 "nbformat": 4,
 "nbformat_minor": 2
}
