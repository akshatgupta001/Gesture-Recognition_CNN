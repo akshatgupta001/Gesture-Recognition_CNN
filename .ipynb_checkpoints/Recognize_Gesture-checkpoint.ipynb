{
 "cells": [
  {
   "cell_type": "code",
   "execution_count": 70,
   "metadata": {},
   "outputs": [],
   "source": [
    "import cv2\n",
    "import numpy as np\n",
    "from keras.models import load_model"
   ]
  },
  {
   "cell_type": "code",
   "execution_count": 71,
   "metadata": {},
   "outputs": [],
   "source": [
    "model = load_model('Gesture_Recognize.h5')"
   ]
  },
  {
   "cell_type": "code",
   "execution_count": 75,
   "metadata": {},
   "outputs": [],
   "source": [
    "gesture = {\n",
    "    0: \"You\",\n",
    "    1: \"I\",\n",
    "    2: \"\",\n",
    "    3: \"Love\"\n",
    "}"
   ]
  },
  {
   "cell_type": "code",
   "execution_count": 73,
   "metadata": {},
   "outputs": [],
   "source": [
    "def predict(hand):\n",
    "    img = cv2.resize(hand, (50,50) )\n",
    "    img = np.array(img)\n",
    "    img = img.reshape( (1,50,50,1) )\n",
    "    img = img/255.0\n",
    "    res = model.predict( img )\n",
    "    max_ind = res.argmax()\n",
    "    return gesture[ max_ind ]"
   ]
  },
  {
   "cell_type": "code",
   "execution_count": 80,
   "metadata": {},
   "outputs": [
    {
     "data": {
      "text/plain": [
       "-1"
      ]
     },
     "execution_count": 80,
     "metadata": {},
     "output_type": "execute_result"
    }
   ],
   "source": [
    "cv2.namedWindow(\"image\", cv2.WINDOW_NORMAL)\n",
    "cv2.namedWindow(\"hand\", cv2.WINDOW_NORMAL)\n",
    "\n",
    "\n",
    "vc = cv2.VideoCapture(0)\n",
    "rval, frame = vc.read()\n",
    "\n",
    "\n",
    "image_x = 350\n",
    "image_y = 125\n",
    "image_w = 200\n",
    "image_h = 200\n",
    "\n",
    "old_pred_text = \"\"\n",
    "pred_text = \"\"\n",
    "count_frames = 0\n",
    "tot_string = \"\"\n",
    "\n",
    "while True:\n",
    "    \n",
    "    if frame is not None: \n",
    "        \n",
    "        frame = cv2.flip(frame, 1)\n",
    "        frame = cv2.resize( frame, (640,480) )\n",
    "        \n",
    "        cv2.rectangle(frame, (image_x,image_y), (image_x + image_w,image_y + image_h), (0,255,0), 2)\n",
    "        \n",
    "        hand = frame[image_y:image_y+image_h, image_x:image_x+image_w]\n",
    "        hand = cv2.cvtColor(hand, cv2.COLOR_BGR2GRAY)\n",
    "        blur = cv2.GaussianBlur(hand, (11,11), 0)\n",
    "        blur = cv2.medianBlur(blur, 15)\n",
    "        thresh = cv2.threshold(blur,210,255,cv2.THRESH_BINARY+cv2.THRESH_OTSU)[1]\n",
    "        thresh = cv2.bitwise_not(thresh)\n",
    "        \n",
    "        old_pred_text = pred_text\n",
    "        \n",
    "        pred_text = predict(thresh)\n",
    "        \n",
    "        if old_pred_text == pred_text:\n",
    "            count_frames += 1\n",
    "        else:\n",
    "            count_frames = 0\n",
    "        \n",
    "        \n",
    "        blackboard = np.zeros(frame.shape, dtype=np.uint8)\n",
    "        cv2.putText(blackboard, \"Predicted text - \", (30, 40), cv2.FONT_HERSHEY_TRIPLEX, 1, (255, 255, 0))\n",
    "        if count_frames > 20 and pred_text != \"\":\n",
    "            tot_string += pred_text + \" \"\n",
    "            count_frames = 0\n",
    "            \n",
    "        cv2.putText(blackboard, tot_string, (30, 80), cv2.FONT_HERSHEY_TRIPLEX, 1, (255, 255, 127))\n",
    "        res = np.hstack((frame, blackboard))\n",
    "        \n",
    "        cv2.imshow(\"image\", res)\n",
    "        cv2.imshow(\"hand\", thresh)\n",
    "        \n",
    "    rval, frame = vc.read()\n",
    "    keypress = cv2.waitKey(1)\n",
    "    \n",
    "    if keypress == ord('q'):\n",
    "        break\n",
    "\n",
    "vc.release()\n",
    "cv2.destroyAllWindows()\n",
    "cv2.waitKey(1)"
   ]
  },
  {
   "cell_type": "code",
   "execution_count": null,
   "metadata": {},
   "outputs": [],
   "source": []
  }
 ],
 "metadata": {
  "kernelspec": {
   "display_name": "Python 2",
   "language": "python",
   "name": "python2"
  },
  "language_info": {
   "codemirror_mode": {
    "name": "ipython",
    "version": 2
   },
   "file_extension": ".py",
   "mimetype": "text/x-python",
   "name": "python",
   "nbconvert_exporter": "python",
   "pygments_lexer": "ipython2",
   "version": "2.7.14"
  }
 },
 "nbformat": 4,
 "nbformat_minor": 2
}
